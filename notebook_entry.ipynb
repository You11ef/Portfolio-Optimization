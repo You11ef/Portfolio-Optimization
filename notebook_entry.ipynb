{
 "cells": [
  {
   "cell_type": "markdown",
   "id": "c51e9d81-af71-4e35-bb21-0f831ca7cd28",
   "metadata": {},
   "source": [
    "# Portfolio Optimization\n",
    "## Required libraries"
   ]
  },
  {
   "cell_type": "code",
   "execution_count": 2,
   "id": "9824396a-f3d8-4c33-81cd-ab99f0e16a98",
   "metadata": {},
   "outputs": [],
   "source": [
    "import yfinance as yf\n",
    "import pandas as pd\n",
    "import numpy as np\n",
    "from datetime import datetime, timedelta\n",
    "from scipy.optimize import minimize"
   ]
  },
  {
   "cell_type": "markdown",
   "id": "04b56473-9cda-4281-a607-e6b57bede698",
   "metadata": {},
   "source": [
    "## Tickers and Time Range"
   ]
  },
  {
   "cell_type": "code",
   "execution_count": 3,
   "id": "a3033aff-e169-47d0-bb9f-b34d4317e04d",
   "metadata": {},
   "outputs": [],
   "source": [
    "tickers = ['SPY','BND','GLD','QQQ','VTI']\n",
    "end_date = datetime.today()\n",
    "start_date = end_date - timedelta(days = 5*365)"
   ]
  },
  {
   "cell_type": "markdown",
   "id": "02dc88c9",
   "metadata": {},
   "source": [
    "## Download Adjusted Close Price"
   ]
  },
  {
   "cell_type": "code",
   "execution_count": 4,
   "id": "f39f62cb",
   "metadata": {},
   "outputs": [
    {
     "name": "stderr",
     "output_type": "stream",
     "text": [
      "[*********************100%***********************]  1 of 1 completed\n",
      "[*********************100%***********************]  1 of 1 completed\n",
      "[*********************100%***********************]  1 of 1 completed\n",
      "[*********************100%***********************]  1 of 1 completed\n",
      "[*********************100%***********************]  1 of 1 completed\n"
     ]
    }
   ],
   "source": [
    "adj_close_df = pd.DataFrame()\n",
    "for ticker in tickers:\n",
    "    data = yf.download(ticker, start = start_date,end = end_date, auto_adjust=True)\n",
    "    adj_close_df[ticker] = data['Close']"
   ]
  },
  {
   "cell_type": "markdown",
   "id": "436e734d",
   "metadata": {},
   "source": [
    "## Calculate Lognormal Returns"
   ]
  },
  {
   "cell_type": "code",
   "execution_count": 5,
   "id": "8fd0346d",
   "metadata": {},
   "outputs": [
    {
     "name": "stdout",
     "output_type": "stream",
     "text": [
      "                 SPY       BND       GLD       QQQ       VTI\n",
      "Date                                                        \n",
      "2020-01-22  0.000121  0.000828  0.000341  0.002639  0.000594\n",
      "2020-01-23  0.001146  0.001771  0.002246  0.003211  0.001127\n",
      "2020-01-24 -0.008933  0.001532  0.005829 -0.008451 -0.009530\n",
      "2020-01-27 -0.016159  0.003292  0.006802 -0.020872 -0.015136\n",
      "2020-01-28  0.010425 -0.001762 -0.008967  0.015243  0.009614\n",
      "...              ...       ...       ...       ...       ...\n",
      "2025-01-10 -0.015385 -0.005180  0.009513 -0.015805 -0.015130\n",
      "2025-01-13  0.001549 -0.000983 -0.010001 -0.003219  0.001635\n",
      "2025-01-14  0.001375  0.000702  0.005236 -0.000950  0.002256\n",
      "2025-01-15  0.018027  0.007972  0.007461  0.022746  0.018175\n",
      "2025-01-16 -0.001925  0.001948  0.006887 -0.007031 -0.000749\n",
      "\n",
      "[1255 rows x 5 columns]\n"
     ]
    }
   ],
   "source": [
    "log_returns = np.log(adj_close_df)-np.log(adj_close_df.shift(1))\n",
    "log_returns = log_returns.dropna()\n",
    "print(log_returns)"
   ]
  },
  {
   "cell_type": "markdown",
   "id": "e6f67dfb",
   "metadata": {},
   "source": [
    "## Covariance Matrix"
   ]
  },
  {
   "cell_type": "code",
   "execution_count": 6,
   "id": "9c1ac4a9",
   "metadata": {},
   "outputs": [
    {
     "name": "stdout",
     "output_type": "stream",
     "text": [
      "          SPY       BND       GLD       QQQ       VTI\n",
      "SPY  0.044645  0.003227  0.005175  0.050730  0.045754\n",
      "BND  0.003227  0.004962  0.003801  0.003873  0.003429\n",
      "GLD  0.005175  0.003801  0.024219  0.006808  0.005399\n",
      "QQQ  0.050730  0.003873  0.006808  0.066512  0.051894\n",
      "VTI  0.045754  0.003429  0.005399  0.051894  0.047275\n"
     ]
    }
   ],
   "source": [
    "cov_matrix = log_returns.cov()*252\n",
    "print(cov_matrix)"
   ]
  },
  {
   "cell_type": "markdown",
   "id": "98a0e662",
   "metadata": {},
   "source": [
    "# Portfolio Performance Metrics"
   ]
  },
  {
   "cell_type": "code",
   "execution_count": 8,
   "id": "238cdfc4",
   "metadata": {},
   "outputs": [],
   "source": [
    "def standard_deviation(weights, cov_matrix):\n",
    "    variance = weights.T @ cov_matrix @ weights\n",
    "    return np.sqrt(variance)\n",
    "\n",
    "def expected_return(weights, log_returns):\n",
    "    return np.sum(log_returns.mean()*weights)*252\n",
    "\n",
    "def sharpe_ratio(weights, log_returns, cov_matrix, risk_free_rate):\n",
    "    return (expected_return(weights, log_returns) - risk_free_rate) / standard_deviation(weights, cov_matrix)"
   ]
  },
  {
   "cell_type": "markdown",
   "id": "c0cfd079",
   "metadata": {},
   "source": [
    "## Risk Free Rate"
   ]
  },
  {
   "cell_type": "code",
   "execution_count": 14,
   "id": "f3fb0c98",
   "metadata": {},
   "outputs": [],
   "source": [
    "risk_free_rate = .02"
   ]
  },
  {
   "cell_type": "markdown",
   "id": "05f75276",
   "metadata": {},
   "source": [
    "## Function to minimize"
   ]
  },
  {
   "cell_type": "code",
   "execution_count": 15,
   "id": "9849ab92",
   "metadata": {},
   "outputs": [],
   "source": [
    "def neg_sharpe_ratio(weights, log_returns, cov_matrix, risk_free_rate):\n",
    "  return -sharpe_ratio(weights, log_returns, cov_matrix, risk_free_rate)"
   ]
  },
  {
   "cell_type": "markdown",
   "id": "3465362d",
   "metadata": {},
   "source": [
    "## Constraints, Bounds and Initial Weights"
   ]
  },
  {
   "cell_type": "code",
   "execution_count": 16,
   "id": "6821fa89",
   "metadata": {},
   "outputs": [],
   "source": [
    "constaints = {\"type\" : \"eq\", \"fun\" : lambda weights : np.sum(weights)-1}\n",
    "bounds = [(0, 0.4) for _ in range(len(tickers))]\n",
    "initial_weights = np.array([1/len(tickers)]*len(tickers))"
   ]
  },
  {
   "cell_type": "markdown",
   "id": "77a778b4",
   "metadata": {},
   "source": [
    "## Optimization"
   ]
  },
  {
   "cell_type": "code",
   "execution_count": 17,
   "id": "18937d95",
   "metadata": {},
   "outputs": [],
   "source": [
    "optimized_results = minimize(neg_sharpe_ratio, initial_weights, args=(log_returns, cov_matrix, risk_free_rate), method=\"SLSQP\", constraints=constaints, bounds=bounds)\n",
    "\n",
    "optimal_weights = optimized_results.x"
   ]
  },
  {
   "cell_type": "markdown",
   "id": "4f0d91e7",
   "metadata": {},
   "source": [
    "## Results"
   ]
  },
  {
   "cell_type": "code",
   "execution_count": 22,
   "id": "977dcfeb",
   "metadata": {},
   "outputs": [
    {
     "name": "stdout",
     "output_type": "stream",
     "text": [
      "Optimal Weights:\n",
      "SPY: 0.2000\n",
      "BND: 0.0000\n",
      "GLD: 0.4000\n",
      "QQQ: 0.4000\n",
      "VTI: 0.0000\n",
      "Expected Annual Return: 0.1386\n",
      "Expected Volatility: 0.1656\n",
      "Sharpe Ratio: 0.7161\n"
     ]
    }
   ],
   "source": [
    "\n",
    "print(\"Optimal Weights:\")\n",
    "for ticker, weight in zip(tickers, optimal_weights):\n",
    "    print(f\"{ticker}: {weight:.4f}\")\n",
    "\n",
    "optimal_portfolio_return = expected_return(optimal_weights, log_returns)\n",
    "optimal_portfolio_volatility = standard_deviation(optimal_weights, cov_matrix)\n",
    "optimal_sharpe_ratio = sharpe_ratio(optimal_weights, log_returns, cov_matrix, risk_free_rate)\n",
    "\n",
    "print(f\"Expected Annual Return: {optimal_portfolio_return:.4f}\")\n",
    "print(f\"Expected Volatility: {optimal_portfolio_volatility:.4f}\")\n",
    "print(f\"Sharpe Ratio: {optimal_sharpe_ratio:.4f}\")"
   ]
  }
 ],
 "metadata": {
  "kernelspec": {
   "display_name": "Python 3",
   "language": "python",
   "name": "python3"
  },
  "language_info": {
   "codemirror_mode": {
    "name": "ipython",
    "version": 3
   },
   "file_extension": ".py",
   "mimetype": "text/x-python",
   "name": "python",
   "nbconvert_exporter": "python",
   "pygments_lexer": "ipython3",
   "version": "3.11.0"
  }
 },
 "nbformat": 4,
 "nbformat_minor": 5
}
